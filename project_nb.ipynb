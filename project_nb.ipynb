{
 "cells": [
  {
   "cell_type": "markdown",
   "metadata": {},
   "source": [
    "Import modules"
   ]
  },
  {
   "cell_type": "code",
   "execution_count": 1,
   "metadata": {},
   "outputs": [],
   "source": [
    "# Imports - these provided for you. Do not import any other packages\n",
    "import pandas as pd\n",
    "import matplotlib.pyplot as plt\n",
    "import seaborn as sns\n",
    "from scipy import stats\n",
    "\n",
    "import operator"
   ]
  },
  {
   "cell_type": "markdown",
   "metadata": {},
   "source": [
    "Loading in the data"
   ]
  },
  {
   "cell_type": "code",
   "execution_count": 2,
   "metadata": {
    "scrolled": true
   },
   "outputs": [],
   "source": [
    "db_movies = pd.read_csv('./IMDB-Movie-Data.csv') "
   ]
  },
  {
   "cell_type": "code",
   "execution_count": 3,
   "metadata": {},
   "outputs": [],
   "source": [
    "#Isolate desired variables and eliminate rows with no rating\n",
    "db_movies = db_movies[['Title','Genre','Rating','Metascore']]\n",
    "db_movies = db_movies.dropna()\n",
    "\n",
    "#Add new variables derived from Rating and Metascore\n",
    "db_movies['Metascore/10'] = db_movies['Metascore']/10\n",
    "db_movies['Difference'] = db_movies['Rating'] - db_movies['Metascore/10']"
   ]
  },
  {
   "cell_type": "code",
   "execution_count": 23,
   "metadata": {
    "scrolled": true
   },
   "outputs": [
    {
     "name": "stdout",
     "output_type": "stream",
     "text": [
      "(936, 6)\n"
     ]
    },
    {
     "data": {
      "text/html": [
       "<div>\n",
       "<style scoped>\n",
       "    .dataframe tbody tr th:only-of-type {\n",
       "        vertical-align: middle;\n",
       "    }\n",
       "\n",
       "    .dataframe tbody tr th {\n",
       "        vertical-align: top;\n",
       "    }\n",
       "\n",
       "    .dataframe thead th {\n",
       "        text-align: right;\n",
       "    }\n",
       "</style>\n",
       "<table border=\"1\" class=\"dataframe\">\n",
       "  <thead>\n",
       "    <tr style=\"text-align: right;\">\n",
       "      <th></th>\n",
       "      <th>Title</th>\n",
       "      <th>Genre</th>\n",
       "      <th>Rating</th>\n",
       "      <th>Metascore</th>\n",
       "      <th>Metascore/10</th>\n",
       "      <th>Difference</th>\n",
       "    </tr>\n",
       "  </thead>\n",
       "  <tbody>\n",
       "    <tr>\n",
       "      <th>0</th>\n",
       "      <td>Guardians of the Galaxy</td>\n",
       "      <td>Action,Adventure,Sci-Fi</td>\n",
       "      <td>8.1</td>\n",
       "      <td>76.0</td>\n",
       "      <td>7.6</td>\n",
       "      <td>0.5</td>\n",
       "    </tr>\n",
       "    <tr>\n",
       "      <th>1</th>\n",
       "      <td>Prometheus</td>\n",
       "      <td>Adventure,Mystery,Sci-Fi</td>\n",
       "      <td>7.0</td>\n",
       "      <td>65.0</td>\n",
       "      <td>6.5</td>\n",
       "      <td>0.5</td>\n",
       "    </tr>\n",
       "    <tr>\n",
       "      <th>2</th>\n",
       "      <td>Split</td>\n",
       "      <td>Horror,Thriller</td>\n",
       "      <td>7.3</td>\n",
       "      <td>62.0</td>\n",
       "      <td>6.2</td>\n",
       "      <td>1.1</td>\n",
       "    </tr>\n",
       "    <tr>\n",
       "      <th>3</th>\n",
       "      <td>Sing</td>\n",
       "      <td>Animation,Comedy,Family</td>\n",
       "      <td>7.2</td>\n",
       "      <td>59.0</td>\n",
       "      <td>5.9</td>\n",
       "      <td>1.3</td>\n",
       "    </tr>\n",
       "    <tr>\n",
       "      <th>4</th>\n",
       "      <td>Suicide Squad</td>\n",
       "      <td>Action,Adventure,Fantasy</td>\n",
       "      <td>6.2</td>\n",
       "      <td>40.0</td>\n",
       "      <td>4.0</td>\n",
       "      <td>2.2</td>\n",
       "    </tr>\n",
       "  </tbody>\n",
       "</table>\n",
       "</div>"
      ],
      "text/plain": [
       "                     Title                     Genre  Rating  Metascore  \\\n",
       "0  Guardians of the Galaxy   Action,Adventure,Sci-Fi     8.1       76.0   \n",
       "1               Prometheus  Adventure,Mystery,Sci-Fi     7.0       65.0   \n",
       "2                    Split           Horror,Thriller     7.3       62.0   \n",
       "3                     Sing   Animation,Comedy,Family     7.2       59.0   \n",
       "4            Suicide Squad  Action,Adventure,Fantasy     6.2       40.0   \n",
       "\n",
       "   Metascore/10  Difference  \n",
       "0           7.6         0.5  \n",
       "1           6.5         0.5  \n",
       "2           6.2         1.1  \n",
       "3           5.9         1.3  \n",
       "4           4.0         2.2  "
      ]
     },
     "execution_count": 23,
     "metadata": {},
     "output_type": "execute_result"
    }
   ],
   "source": [
    "print(db_movies.shape)\n",
    "db_movies.head()"
   ]
  },
  {
   "cell_type": "markdown",
   "metadata": {},
   "source": [
    "Identify genres and create dataframes of movies in each genre"
   ]
  },
  {
   "cell_type": "code",
   "execution_count": 6,
   "metadata": {},
   "outputs": [],
   "source": [
    "#Returns a list of string labels for genres used\n",
    "def getGenres(dataframe):\n",
    "    genres = list()\n",
    "    genreCol = dataframe['Genre']\n",
    "    \n",
    "    #Get the entry from the column\n",
    "    for genreEnt in genreCol:\n",
    "        #Split and parse strings of genre\n",
    "        genreEntries = genreEnt.split(',')\n",
    "        for genre in genreEntries:\n",
    "            #check if it is in the list\n",
    "            if not(any(genre in listEntry for listEntry in genres)):\n",
    "                #Add to list if not included yet\n",
    "                genres.append(genre)\n",
    "    return genres"
   ]
  },
  {
   "cell_type": "code",
   "execution_count": 22,
   "metadata": {},
   "outputs": [],
   "source": [
    "def hasGenre(row,genre):\n",
    "    return genre in row['Genre']"
   ]
  },
  {
   "cell_type": "markdown",
   "metadata": {},
   "source": [
    "Bar chart of genre frequency. Movies may be duplicated across genres"
   ]
  },
  {
   "cell_type": "code",
   "execution_count": 9,
   "metadata": {},
   "outputs": [],
   "source": [
    "#Get the genres used and generate an empty list\n",
    "genreList = getGenres(db_movies)\n",
    "genreFreq = list()\n",
    "\n",
    "#Fill the requency dictionary genreFreq\n",
    "for genre in genreList:\n",
    "    freq = 0\n",
    "    for index, row in db_movies.iterrows():\n",
    "        if (hasGenre(row,genre)):\n",
    "            freq += 1\n",
    "    genreFreq.append((genre,freq))\n",
    "\n",
    "#Sort dictionary by key into a tuple list\n",
    "genreFreq.sort(key = lambda tup:tup[1],reverse=True)"
   ]
  },
  {
   "cell_type": "code",
   "execution_count": 12,
   "metadata": {},
   "outputs": [
    {
     "data": {
      "image/png": "[encoded data removed]",
      "text/plain": [
       "<Figure size 432x288 with 1 Axes>"
      ]
     },
     "metadata": {
      "needs_background": "light"
     },
     "output_type": "display_data"
    }
   ],
   "source": [
    "#Plot genreFreq as a bar chart\n",
    "x = range(len(genreFreq))\n",
    "x_label, y = zip(*genreFreq)\n",
    "\n",
    "ax = plt.axes()\n",
    "\n",
    "plt.bar(x, y, align='center',linewidth=0)\n",
    "plt.xticks(x,x_label, rotation='vertical')\n",
    "plt.title('Number of Films in a Genre')\n",
    "ax.spines['right'].set_linewidth(0)\n",
    "ax.spines['top'].set_linewidth(0)\n",
    "plt.show()\n",
    "\n"
   ]
  },
  {
   "cell_type": "markdown",
   "metadata": {},
   "source": [
    "Create new dataframes using the top five genres"
   ]
  },
  {
   "cell_type": "code",
   "execution_count": 13,
   "metadata": {},
   "outputs": [],
   "source": [
    "def getGenreMovies(movies,genreList):\n",
    "    movieTables = {}\n",
    "    for genre in genreList:\n",
    "        movieTables[genre] = movies.loc[movies['Genre'].str.contains(genre)]\n",
    "    return movieTables"
   ]
  },
  {
   "cell_type": "code",
   "execution_count": 14,
   "metadata": {},
   "outputs": [],
   "source": [
    "movieTb = getGenreMovies(db_movies,genreList)"
   ]
  },
  {
   "cell_type": "code",
   "execution_count": 15,
   "metadata": {},
   "outputs": [],
   "source": [
    "#Get the correlation coefficients between ratings\n",
    "genreCorr = list()\n",
    "for genre in genreList:\n",
    "    genreCorr.append((genre,movieTb[genre].corr()['Rating']['Metascore']))"
   ]
  },
  {
   "cell_type": "code",
   "execution_count": 16,
   "metadata": {},
   "outputs": [
    {
     "data": {
      "text/plain": [
       "[('Horror', 0.4907297965929032),\n",
       " ('Music', 0.475652879054996),\n",
       " ('Biography', 0.35940753272590187)]"
      ]
     },
     "execution_count": 16,
     "metadata": {},
     "output_type": "execute_result"
    }
   ],
   "source": [
    "[tup for tup in genreCorr if abs(tup[1]) < 0.5]"
   ]
  },
  {
   "cell_type": "markdown",
   "metadata": {},
   "source": [
    "Plot histogram of differences in rating in movies for each genre"
   ]
  },
  {
   "cell_type": "code",
   "execution_count": 70,
   "metadata": {},
   "outputs": [
    {
     "name": "stdout",
     "output_type": "stream",
     "text": [
      "0.9510135135135145\n",
      "0.6132631578947363\n",
      "1.682773928751083\n",
      "1.9625030424161647\n",
      "Ttest_indResult(statistic=4.078583642841564, pvalue=4.868781997324842e-05)\n"
     ]
    },
    {
     "data": {
      "image/png": "[encoded data removed]",
      "text/plain": [
       "<Figure size 432x288 with 1 Axes>"
      ]
     },
     "metadata": {
      "needs_background": "light"
     },
     "output_type": "display_data"
    }
   ],
   "source": [
    "#Merge acion,comedy,and horror films\n",
    "dumFilms = movieTb['Action'].combine_first(movieTb['Comedy'])\n",
    "dumFilms = dumFilms.combine_first(movieTb['Horror'])\n",
    "\n",
    "#Merge drama and historical films\n",
    "branFilms = movieTb['Drama'].combine_first(movieTb['History'])\n",
    "\n",
    "\n",
    "\n",
    "\n",
    "#plt.title('Difference in IMDb User Rating minus Metacritic Rating/10')\n",
    "#plt.ylabel('Frequency')\n",
    "\n",
    "\n",
    "#plt.show()\n",
    "axes1 = dumFilms['Difference'].hist(bins=20)\n",
    "axes2 = branFilms['Difference'].hist(bins=20)\n",
    "\n",
    "axes1.set_title(\"'Dumb' vs 'Smart' Films by Review Difference\")\n",
    "axes1.legend(['Dumb:Action,Comedy,Horror','Smart:History,Drama'])\n",
    "axes1.set_ylabel(\"Frequency (# of Films)\")\n",
    "\n",
    "axes1.grid(False)\n",
    "axes1.set_frame_on(False)\n",
    "\n",
    "dumDiff = dumFilms['Difference']\n",
    "branDiff = branFilms['Difference']\n",
    "\n",
    "\n",
    "print(dumDiff.mean())\n",
    "print(branDiff.mean())\n",
    "print(dumDiff.var())\n",
    "print(branDiff.var())\n",
    "print(stats.ttest_ind(dumDiff,branDiff))"
   ]
  },
  {
   "cell_type": "code",
   "execution_count": 27,
   "metadata": {},
   "outputs": [
    {
     "data": {
      "text/plain": [
       "Ttest_indResult(statistic=0.07584291345451387, pvalue=0.939560042622371)"
      ]
     },
     "execution_count": 27,
     "metadata": {},
     "output_type": "execute_result"
    }
   ],
   "source": []
  },
  {
   "cell_type": "code",
   "execution_count": null,
   "metadata": {},
   "outputs": [],
   "source": []
  }
 ],
 "metadata": {
  "kernelspec": {
   "display_name": "Python 3",
   "language": "python",
   "name": "python3"
  },
  "language_info": {
   "codemirror_mode": {
    "name": "ipython",
    "version": 3
   },
   "file_extension": ".py",
   "mimetype": "text/x-python",
   "name": "python",
   "nbconvert_exporter": "python",
   "pygments_lexer": "ipython3",
   "version": "3.7.1"
  }
 },
 "nbformat": 4,
 "nbformat_minor": 2
}
