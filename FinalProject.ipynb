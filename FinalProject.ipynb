{
 "cells": [
  {
   "cell_type": "markdown",
   "metadata": {},
   "source": [
    "# The Correlation of Genre with Differences in Ratings"
   ]
  },
  {
   "cell_type": "markdown",
   "metadata": {},
   "source": [
    "### Group members\n",
    "Robert Coughlin A12892298  \n",
    "Chris Doherty A12581585  \n",
    "Mia Schloss A13366340  \n",
    "\n"
   ]
  },
  {
   "cell_type": "markdown",
   "metadata": {},
   "source": [
    "## Research Question\n",
    "How does the movie’s genre impact the audience score and the critic score, and the difference between the two?\n",
    "(What is the correlation between the difference in audience and critic scores for movies and the movie’s genre?)"
   ]
  },
  {
   "cell_type": "markdown",
   "metadata": {},
   "source": [
    "## Background and Prior Work\n",
    "We are interested in this question because we have noticed that movie critics and audiences frequently seem to rate movies differently. This phenomenon occurs partially because they view movies in different ways: critics focus more on the artistic and social impacts of movies, whereas audiences are more concerned with being entertained (Lefler 2018). So, it follows that movies that are meant to be more artistic or contain social commentary, like dramas or historical films, would get higher ratings from critics than they would from audiences. On the other hand, more “mindless” and fun movies, like comedies and action movies, would get higher ratings from audiences. We want to see if this trend is real and if it truly cuts across genres in this way.\n",
    "\n",
    "According to a study that asked a similar question to ours, audiences and critics differ the most in the genres of Fantasy, Action, and Adventure (Blanchard 2017). However, the person who did the analysis acknowledged that his data came from the ten most popular movies in a year (Blanchard 2017). Since our dataset is not restricted by that qualifier, our results could be different than his, and would be more generalizable since they sample a wider selection of movies. Blanchard also found that the genres of Drama and Animation had the smallest difference between audience and critic score, but audiences still rated them higher than critics did. He did not find any genres that critics rated higher than audiences. This is contrary to what we expected because we believed that audiences would not rate Dramas as highly as critics would. So when we do our analysis, that will be a focal question.\n",
    "\n",
    "#### References\n",
    "Blanchard, T. (Feb 23 2017). Genres Where Audiences and Critics Differ Most. \n",
    "Retrieved from http://tommyblanchard.com/movie-genre-ratings\n",
    "\n",
    "Lefler, R. (Feb 14 2018). Why Critics and Audiences Differ on Movies. Retrieved from \n",
    "https://reelrundown.com/movies/Why-Critics-and-Audiences-Differ-on-Movies\n"
   ]
  },
  {
   "cell_type": "markdown",
   "metadata": {},
   "source": [
    "## Hypothesis\n",
    "We hypothesize that critics and audiences will give significantly different ratings when broken and categorized by genre. We predict genres like Action, Comedy, and Horror will have higher audience scores than critic scores, and that genres like Drama and Historical will have higher critic scores than audiences scores.\n"
   ]
  },
  {
   "cell_type": "markdown",
   "metadata": {},
   "source": [
    "Import modules"
   ]
  },
  {
   "cell_type": "code",
   "execution_count": 40,
   "metadata": {},
   "outputs": [],
   "source": [
    "# Imports - these provided for you. Do not import any other packages\n",
    "import pandas as pd\n",
    "import matplotlib.pyplot as plt\n",
    "import seaborn as sns\n",
    "from scipy import stats\n",
    "import math\n",
    "\n",
    "import operator"
   ]
  },
  {
   "cell_type": "markdown",
   "metadata": {},
   "source": [
    "## Data Description\n",
    "\n",
    "##### Retrieved From:\n",
    "https://www.kaggle.com/PromptCloudHQ/imdb-data/data\n",
    "\n",
    "The database as provided by kaggle is a ranking of the top 1000 films from 2006 to 2016 as rated. It contains 1000 observations, each corresponding to a film, and contains 12 variables:\n",
    "\n",
    "Rank  \n",
    "Title  \n",
    "Genre  \n",
    "Description  \n",
    "Director  \n",
    "Actors  \n",
    "Year  \n",
    "Runtime (min)  \n",
    "User Rating (0-10 scale)  \n",
    "Votes  \n",
    "Revenue (Millions)  \n",
    "Critic Metascore (From Metacritic. 0-100 scale)  \n",
    "\n"
   ]
  },
  {
   "cell_type": "markdown",
   "metadata": {},
   "source": [
    "Loading in the data"
   ]
  },
  {
   "cell_type": "code",
   "execution_count": 3,
   "metadata": {
    "scrolled": true
   },
   "outputs": [
    {
     "data": {
      "text/html": [
       "<div>\n",
       "<style scoped>\n",
       "    .dataframe tbody tr th:only-of-type {\n",
       "        vertical-align: middle;\n",
       "    }\n",
       "\n",
       "    .dataframe tbody tr th {\n",
       "        vertical-align: top;\n",
       "    }\n",
       "\n",
       "    .dataframe thead th {\n",
       "        text-align: right;\n",
       "    }\n",
       "</style>\n",
       "<table border=\"1\" class=\"dataframe\">\n",
       "  <thead>\n",
       "    <tr style=\"text-align: right;\">\n",
       "      <th></th>\n",
       "      <th>Rank</th>\n",
       "      <th>Title</th>\n",
       "      <th>Genre</th>\n",
       "      <th>Description</th>\n",
       "      <th>Director</th>\n",
       "      <th>Actors</th>\n",
       "      <th>Year</th>\n",
       "      <th>Runtime (Minutes)</th>\n",
       "      <th>Rating</th>\n",
       "      <th>Votes</th>\n",
       "      <th>Revenue (Millions)</th>\n",
       "      <th>Metascore</th>\n",
       "    </tr>\n",
       "  </thead>\n",
       "  <tbody>\n",
       "    <tr>\n",
       "      <th>0</th>\n",
       "      <td>1</td>\n",
       "      <td>Guardians of the Galaxy</td>\n",
       "      <td>Action,Adventure,Sci-Fi</td>\n",
       "      <td>A group of intergalactic criminals are forced ...</td>\n",
       "      <td>James Gunn</td>\n",
       "      <td>Chris Pratt, Vin Diesel, Bradley Cooper, Zoe S...</td>\n",
       "      <td>2014</td>\n",
       "      <td>121</td>\n",
       "      <td>8.1</td>\n",
       "      <td>757074</td>\n",
       "      <td>333.13</td>\n",
       "      <td>76.0</td>\n",
       "    </tr>\n",
       "    <tr>\n",
       "      <th>1</th>\n",
       "      <td>2</td>\n",
       "      <td>Prometheus</td>\n",
       "      <td>Adventure,Mystery,Sci-Fi</td>\n",
       "      <td>Following clues to the origin of mankind, a te...</td>\n",
       "      <td>Ridley Scott</td>\n",
       "      <td>Noomi Rapace, Logan Marshall-Green, Michael Fa...</td>\n",
       "      <td>2012</td>\n",
       "      <td>124</td>\n",
       "      <td>7.0</td>\n",
       "      <td>485820</td>\n",
       "      <td>126.46</td>\n",
       "      <td>65.0</td>\n",
       "    </tr>\n",
       "    <tr>\n",
       "      <th>2</th>\n",
       "      <td>3</td>\n",
       "      <td>Split</td>\n",
       "      <td>Horror,Thriller</td>\n",
       "      <td>Three girls are kidnapped by a man with a diag...</td>\n",
       "      <td>M. Night Shyamalan</td>\n",
       "      <td>James McAvoy, Anya Taylor-Joy, Haley Lu Richar...</td>\n",
       "      <td>2016</td>\n",
       "      <td>117</td>\n",
       "      <td>7.3</td>\n",
       "      <td>157606</td>\n",
       "      <td>138.12</td>\n",
       "      <td>62.0</td>\n",
       "    </tr>\n",
       "    <tr>\n",
       "      <th>3</th>\n",
       "      <td>4</td>\n",
       "      <td>Sing</td>\n",
       "      <td>Animation,Comedy,Family</td>\n",
       "      <td>In a city of humanoid animals, a hustling thea...</td>\n",
       "      <td>Christophe Lourdelet</td>\n",
       "      <td>Matthew McConaughey,Reese Witherspoon, Seth Ma...</td>\n",
       "      <td>2016</td>\n",
       "      <td>108</td>\n",
       "      <td>7.2</td>\n",
       "      <td>60545</td>\n",
       "      <td>270.32</td>\n",
       "      <td>59.0</td>\n",
       "    </tr>\n",
       "    <tr>\n",
       "      <th>4</th>\n",
       "      <td>5</td>\n",
       "      <td>Suicide Squad</td>\n",
       "      <td>Action,Adventure,Fantasy</td>\n",
       "      <td>A secret government agency recruits some of th...</td>\n",
       "      <td>David Ayer</td>\n",
       "      <td>Will Smith, Jared Leto, Margot Robbie, Viola D...</td>\n",
       "      <td>2016</td>\n",
       "      <td>123</td>\n",
       "      <td>6.2</td>\n",
       "      <td>393727</td>\n",
       "      <td>325.02</td>\n",
       "      <td>40.0</td>\n",
       "    </tr>\n",
       "  </tbody>\n",
       "</table>\n",
       "</div>"
      ],
      "text/plain": [
       "   Rank                    Title                     Genre  \\\n",
       "0     1  Guardians of the Galaxy   Action,Adventure,Sci-Fi   \n",
       "1     2               Prometheus  Adventure,Mystery,Sci-Fi   \n",
       "2     3                    Split           Horror,Thriller   \n",
       "3     4                     Sing   Animation,Comedy,Family   \n",
       "4     5            Suicide Squad  Action,Adventure,Fantasy   \n",
       "\n",
       "                                         Description              Director  \\\n",
       "0  A group of intergalactic criminals are forced ...            James Gunn   \n",
       "1  Following clues to the origin of mankind, a te...          Ridley Scott   \n",
       "2  Three girls are kidnapped by a man with a diag...    M. Night Shyamalan   \n",
       "3  In a city of humanoid animals, a hustling thea...  Christophe Lourdelet   \n",
       "4  A secret government agency recruits some of th...            David Ayer   \n",
       "\n",
       "                                              Actors  Year  Runtime (Minutes)  \\\n",
       "0  Chris Pratt, Vin Diesel, Bradley Cooper, Zoe S...  2014                121   \n",
       "1  Noomi Rapace, Logan Marshall-Green, Michael Fa...  2012                124   \n",
       "2  James McAvoy, Anya Taylor-Joy, Haley Lu Richar...  2016                117   \n",
       "3  Matthew McConaughey,Reese Witherspoon, Seth Ma...  2016                108   \n",
       "4  Will Smith, Jared Leto, Margot Robbie, Viola D...  2016                123   \n",
       "\n",
       "   Rating   Votes  Revenue (Millions)  Metascore  \n",
       "0     8.1  757074              333.13       76.0  \n",
       "1     7.0  485820              126.46       65.0  \n",
       "2     7.3  157606              138.12       62.0  \n",
       "3     7.2   60545              270.32       59.0  \n",
       "4     6.2  393727              325.02       40.0  "
      ]
     },
     "execution_count": 3,
     "metadata": {},
     "output_type": "execute_result"
    }
   ],
   "source": [
    "db_base =  pd.read_csv('./IMDB-Movie-Data.csv') \n",
    "db_base.head()"
   ]
  },
  {
   "cell_type": "markdown",
   "metadata": {},
   "source": [
    "## Data Cleaning\n",
    "The information we need is readily curated for us in .csv format in the kaggle database. The only personal information under the purview of the safe-harbor method is the actors’ names, who are already public figures. However, further processing still had to be done, as kaggle indicated several elements from variables we are interested in are “mismatched,” and are registered as null in Python after some testing. As there is no appropriate number we can substitute null with accurately, the corresponding observations will have to be excluded from the analysis.\n",
    "\n",
    "In addition, we are not interested in some of the variables, and we will only be keeping the Title, Genre, Rating, and Metascore"
   ]
  },
  {
   "cell_type": "code",
   "execution_count": 4,
   "metadata": {},
   "outputs": [
    {
     "name": "stdout",
     "output_type": "stream",
     "text": [
      "(838, 4)\n"
     ]
    },
    {
     "data": {
      "text/html": [
       "<div>\n",
       "<style scoped>\n",
       "    .dataframe tbody tr th:only-of-type {\n",
       "        vertical-align: middle;\n",
       "    }\n",
       "\n",
       "    .dataframe tbody tr th {\n",
       "        vertical-align: top;\n",
       "    }\n",
       "\n",
       "    .dataframe thead th {\n",
       "        text-align: right;\n",
       "    }\n",
       "</style>\n",
       "<table border=\"1\" class=\"dataframe\">\n",
       "  <thead>\n",
       "    <tr style=\"text-align: right;\">\n",
       "      <th></th>\n",
       "      <th>Title</th>\n",
       "      <th>Genre</th>\n",
       "      <th>Rating</th>\n",
       "      <th>Metascore</th>\n",
       "    </tr>\n",
       "  </thead>\n",
       "  <tbody>\n",
       "    <tr>\n",
       "      <th>0</th>\n",
       "      <td>Guardians of the Galaxy</td>\n",
       "      <td>Action,Adventure,Sci-Fi</td>\n",
       "      <td>8.1</td>\n",
       "      <td>76.0</td>\n",
       "    </tr>\n",
       "    <tr>\n",
       "      <th>1</th>\n",
       "      <td>Prometheus</td>\n",
       "      <td>Adventure,Mystery,Sci-Fi</td>\n",
       "      <td>7.0</td>\n",
       "      <td>65.0</td>\n",
       "    </tr>\n",
       "    <tr>\n",
       "      <th>2</th>\n",
       "      <td>Split</td>\n",
       "      <td>Horror,Thriller</td>\n",
       "      <td>7.3</td>\n",
       "      <td>62.0</td>\n",
       "    </tr>\n",
       "    <tr>\n",
       "      <th>3</th>\n",
       "      <td>Sing</td>\n",
       "      <td>Animation,Comedy,Family</td>\n",
       "      <td>7.2</td>\n",
       "      <td>59.0</td>\n",
       "    </tr>\n",
       "    <tr>\n",
       "      <th>4</th>\n",
       "      <td>Suicide Squad</td>\n",
       "      <td>Action,Adventure,Fantasy</td>\n",
       "      <td>6.2</td>\n",
       "      <td>40.0</td>\n",
       "    </tr>\n",
       "  </tbody>\n",
       "</table>\n",
       "</div>"
      ],
      "text/plain": [
       "                     Title                     Genre  Rating  Metascore\n",
       "0  Guardians of the Galaxy   Action,Adventure,Sci-Fi     8.1       76.0\n",
       "1               Prometheus  Adventure,Mystery,Sci-Fi     7.0       65.0\n",
       "2                    Split           Horror,Thriller     7.3       62.0\n",
       "3                     Sing   Animation,Comedy,Family     7.2       59.0\n",
       "4            Suicide Squad  Action,Adventure,Fantasy     6.2       40.0"
      ]
     },
     "execution_count": 4,
     "metadata": {},
     "output_type": "execute_result"
    }
   ],
   "source": [
    "#Eliminate rows with no rating\n",
    "db_base = db_base.dropna()\n",
    "\n",
    "#Create a copy with only some of the fields\n",
    "db_movies = db_base.copy()\n",
    "db_movies = db_movies[['Title','Genre','Rating','Metascore']]\n",
    "print(db_movies.shape)\n",
    "db_movies.head()\n",
    "\n"
   ]
  },
  {
   "cell_type": "markdown",
   "metadata": {},
   "source": [
    "## Pre-Processing\n",
    "The films within the database have been categorized into several genres at once, much like they are in real life. When importing the data for data analysis, we will divide the films into separate data tables based upon genre, with these films appearing across multiple tables with matching genres. Since IMDb and Metacritic operate on different scales by a factor of 10, the Metacritic reviews will be divided by 10 and given a new column labeled ‘Metacritic/10.’\n"
   ]
  },
  {
   "cell_type": "markdown",
   "metadata": {},
   "source": [
    "Identify genres and create dataframes of movies in each genre"
   ]
  },
  {
   "cell_type": "code",
   "execution_count": 5,
   "metadata": {},
   "outputs": [],
   "source": [
    "#Returns a list of string labels for genres used\n",
    "def getGenres(dataframe):\n",
    "    genres = list()\n",
    "    genreCol = dataframe['Genre']\n",
    "    \n",
    "    #Get the entry from the column\n",
    "    for genreEnt in genreCol:\n",
    "        #Split and parse strings of genre\n",
    "        genreEntries = genreEnt.split(',')\n",
    "        for genre in genreEntries:\n",
    "            #check if it is in the list\n",
    "            if not(any(genre in listEntry for listEntry in genres)):\n",
    "                #Add to list if not included yet\n",
    "                genres.append(genre)\n",
    "    return genres"
   ]
  },
  {
   "cell_type": "code",
   "execution_count": 6,
   "metadata": {},
   "outputs": [],
   "source": [
    "def hasGenre(row,genre):\n",
    "    return genre in row['Genre']"
   ]
  },
  {
   "cell_type": "markdown",
   "metadata": {},
   "source": [
    "Bar chart of genre frequency. Movies may be duplicated across genres"
   ]
  },
  {
   "cell_type": "code",
   "execution_count": 7,
   "metadata": {},
   "outputs": [],
   "source": [
    "#Add new variables derived from Rating and Metascore\n",
    "db_base['Metascore/10'] = db_base['Metascore']/10\n",
    "db_base['Difference'] = db_base['Rating'] - db_base['Metascore/10']\n",
    "\n",
    "#Copy series onto db_movies\n",
    "db_movies['Metascore/10'] = db_base['Metascore/10']\n",
    "db_movies['Difference'] = db_base['Difference']"
   ]
  },
  {
   "cell_type": "code",
   "execution_count": 8,
   "metadata": {},
   "outputs": [],
   "source": [
    "\n",
    "#Get the genres used and generate an empty list\n",
    "genreList = getGenres(db_movies)\n",
    "genreFreq = list()\n",
    "\n",
    "#Fill the requency dictionary genreFreq\n",
    "for genre in genreList:\n",
    "    freq = 0\n",
    "    for index, row in db_movies.iterrows():\n",
    "        if (hasGenre(row,genre)):\n",
    "            freq += 1\n",
    "    genreFreq.append((genre,freq))\n",
    "\n",
    "#Sort dictionary by key into a tuple list\n",
    "genreFreq.sort(key = lambda tup:tup[1],reverse=True)"
   ]
  },
  {
   "cell_type": "markdown",
   "metadata": {},
   "source": [
    "## Data Visualization\n",
    "Each table will then have three plots. The first will be a scatter plot of the IMDb user reviews on the x-axis versus the Metacritic aggregate review on the y-axis, to determine if a correlation exists. Next would be a histogram whose bins contain the difference in review between the user and ‘Metacritic/10.’ The density plot will be estimated using the bar mid-points.\n",
    "\n",
    "We will have a bar-chart displaying the frequency of films labeled under a specifig genre within the data we are working with.\n",
    "\n",
    "In addition, as part of answering our prediction, some of the genres have been grouped together into two dataframes for visualization on a histogram, with the generes used indicated on the legend and the means represented by dashed lines in the color corresponding to their distribution."
   ]
  },
  {
   "cell_type": "code",
   "execution_count": 9,
   "metadata": {},
   "outputs": [
    {
     "data": {
      "image/png": "[encoded data removed]",
      "text/plain": [
       "<Figure size 432x288 with 1 Axes>"
      ]
     },
     "metadata": {
      "needs_background": "light"
     },
     "output_type": "display_data"
    }
   ],
   "source": [
    "#Plot genreFreq as a bar chart\n",
    "x = range(len(genreFreq))\n",
    "x_label, y = zip(*genreFreq)\n",
    "\n",
    "ax = plt.axes()\n",
    "\n",
    "plt.bar(x, y, align='center',linewidth=0)\n",
    "plt.xticks(x,x_label, rotation='vertical')\n",
    "plt.title('Number of Films in a Genre')\n",
    "ax.spines['right'].set_linewidth(0)\n",
    "ax.spines['top'].set_linewidth(0)\n",
    "plt.show()\n",
    "\n"
   ]
  },
  {
   "cell_type": "code",
   "execution_count": 10,
   "metadata": {},
   "outputs": [],
   "source": [
    "def getGenreMovies(movies,genreList):\n",
    "    movieTables = {}\n",
    "    for genre in genreList:\n",
    "        movieTables[genre] = movies.loc[movies['Genre'].str.contains(genre)]\n",
    "    return movieTables"
   ]
  },
  {
   "cell_type": "code",
   "execution_count": 11,
   "metadata": {},
   "outputs": [],
   "source": [
    "movieTb = getGenreMovies(db_movies,genreList)"
   ]
  },
  {
   "cell_type": "code",
   "execution_count": 12,
   "metadata": {},
   "outputs": [
    {
     "data": {
      "text/plain": [
       "<matplotlib.lines.Line2D at 0x21e521b6a20>"
      ]
     },
     "execution_count": 12,
     "metadata": {},
     "output_type": "execute_result"
    },
    {
     "data": {
      "image/png": "[encoded data removed]",
      "text/plain": [
       "<Figure size 432x288 with 1 Axes>"
      ]
     },
     "metadata": {
      "needs_background": "light"
     },
     "output_type": "display_data"
    }
   ],
   "source": [
    "#Merge acion,comedy,and horror films\n",
    "dumFilms = movieTb['Action'].combine_first(movieTb['Comedy'])\n",
    "dumFilms = dumFilms.combine_first(movieTb['Horror'])\n",
    "\n",
    "#Merge drama and historical films\n",
    "branFilms = movieTb['Drama'].combine_first(movieTb['History'])\n",
    "\n",
    "dumDiff = dumFilms['Difference']\n",
    "branDiff = branFilms['Difference']\n",
    "\n",
    "#plt.title('Difference in IMDb User Rating minus Metacritic Rating/10')\n",
    "#plt.ylabel('Frequency')\n",
    "\n",
    "\n",
    "#plt.show()\n",
    "axes1 = dumDiff.hist(bins=20)\n",
    "axes2 = branDiff.hist(bins=20,fc=(0.5,0,0,0.5))\n",
    "\n",
    "axes1.set_title(\"'Dumb' vs 'Smart' Films by Review Difference\")\n",
    "axes1.legend(['Dumb:Action,Comedy,Horror','Smart:History,Drama'])\n",
    "axes1.set_ylabel(\"Frequency (# of Films)\")\n",
    "\n",
    "axes1.grid(False)\n",
    "axes1.set_frame_on(False)\n",
    "\n",
    "plt.axvline(dumDiff.mean(), color='blue', linestyle='dashed', linewidth=1)\n",
    "plt.axvline(branDiff.mean(), color='red', linestyle='dashed', linewidth=1)"
   ]
  },
  {
   "cell_type": "code",
   "execution_count": 58,
   "metadata": {
    "scrolled": true
   },
   "outputs": [
    {
     "name": "stderr",
     "output_type": "stream",
     "text": [
      "C:\\ProgramData\\Anaconda3\\lib\\site-packages\\matplotlib\\figure.py:98: MatplotlibDeprecationWarning: \n",
      "Adding an axes using the same arguments as a previous axes currently reuses the earlier instance.  In a future version, a new instance will always be created and returned.  Meanwhile, this warning can be suppressed, and the future behavior ensured, by passing a unique label to each axes instance.\n",
      "  \"Adding an axes using the same arguments as a previous axes \"\n"
     ]
    },
    {
     "data": {
      "image/png": "[encoded data removed]",
      "text/plain": [
       "<Figure size 432x288 with 1 Axes>"
      ]
     },
     "metadata": {
      "needs_background": "light"
     },
     "output_type": "display_data"
    }
   ],
   "source": [
    "#Create a boxplot of all the distributions\n",
    "\n",
    "#Get all the distributions in one place\n",
    "filmDifferences = pd.DataFrame()\n",
    "\n",
    "for genre,filmDiff in movieTb.items():\n",
    "    filmDifferences[genre] = filmDiff['Difference']\n",
    "    \n",
    "filmDifferences.boxplot()\n",
    "\n",
    "\n",
    "ax = plt.axes()\n",
    "\n",
    "plt.xticks(rotation='vertical')\n",
    "plt.title('Number of Films in a Genre')\n",
    "ax.set_ylabel('Difference of User and Critic Review by 10 Scale')\n",
    "ax.spines['right'].set_linewidth(0)\n",
    "ax.spines['top'].set_linewidth(0)\n",
    "plt.show()\n",
    "\n"
   ]
  },
  {
   "cell_type": "code",
   "execution_count": 56,
   "metadata": {
    "scrolled": true
   },
   "outputs": [
    {
     "name": "stdout",
     "output_type": "stream",
     "text": [
      "[Means]\n",
      "Action       1.246209\n",
      "Adventure    1.259060\n",
      "Sci-Fi       1.131884\n",
      "Mystery      1.468750\n",
      "Horror       1.800000\n",
      "Thriller     1.258333\n",
      "Animation    0.433333\n",
      "Comedy       1.160465\n",
      "Family       1.466667\n",
      "Fantasy      1.581579\n",
      "Drama        1.040625\n",
      "Music             NaN\n",
      "Biography    0.325000\n",
      "Romance      1.828571\n",
      "History      0.833333\n",
      "Western      1.500000\n",
      "Crime        1.303922\n",
      "War          2.066667\n",
      "Musical           NaN\n",
      "Sport        1.425000\n",
      "dtype: float64\n",
      "The highest mean difference:\n",
      "War: 2.0666666666666664\n",
      "The lowest mean difference:\n",
      "Biography: 0.3249999999999998\n",
      "\n",
      "[Medians]\n",
      "Action       1.30\n",
      "Adventure    1.40\n",
      "Sci-Fi       1.20\n",
      "Mystery      1.70\n",
      "Horror       1.85\n",
      "Thriller     1.35\n",
      "Animation    0.40\n",
      "Comedy       1.10\n",
      "Family       1.45\n",
      "Fantasy      1.95\n",
      "Drama        1.20\n",
      "Music         NaN\n",
      "Biography    0.35\n",
      "Romance      1.40\n",
      "History      1.00\n",
      "Western      1.50\n",
      "Crime        1.50\n",
      "War          2.50\n",
      "Musical       NaN\n",
      "Sport        1.50\n",
      "dtype: float64\n",
      "The highest median difference:\n",
      "War: 2.5\n",
      "The lowest median difference:\n",
      "Biography: 0.34999999999999964\n"
     ]
    },
    {
     "name": "stderr",
     "output_type": "stream",
     "text": [
      "C:\\ProgramData\\Anaconda3\\lib\\site-packages\\ipykernel_launcher.py:8: FutureWarning: 'argmax' is deprecated, use 'idxmax' instead. The behavior of 'argmax'\n",
      "will be corrected to return the positional maximum in the future.\n",
      "Use 'series.values.argmax' to get the position of the maximum now.\n",
      "  \n",
      "C:\\ProgramData\\Anaconda3\\lib\\site-packages\\ipykernel_launcher.py:12: FutureWarning: 'argmin' is deprecated, use 'idxmin' instead. The behavior of 'argmin'\n",
      "will be corrected to return the positional minimum in the future.\n",
      "Use 'series.values.argmin' to get the position of the minimum now.\n",
      "  if sys.path[0] == '':\n",
      "C:\\ProgramData\\Anaconda3\\lib\\site-packages\\ipykernel_launcher.py:19: FutureWarning: 'argmax' is deprecated, use 'idxmax' instead. The behavior of 'argmax'\n",
      "will be corrected to return the positional maximum in the future.\n",
      "Use 'series.values.argmax' to get the position of the maximum now.\n",
      "C:\\ProgramData\\Anaconda3\\lib\\site-packages\\ipykernel_launcher.py:23: FutureWarning: 'argmin' is deprecated, use 'idxmin' instead. The behavior of 'argmin'\n",
      "will be corrected to return the positional minimum in the future.\n",
      "Use 'series.values.argmin' to get the position of the minimum now.\n"
     ]
    }
   ],
   "source": [
    "#Get the mean and median\n",
    "meanList = filmDifferences.mean()\n",
    "medianList = filmDifferences.median()\n",
    "print(\"[Means]\")\n",
    "print(meanList)\n",
    "#Get hightest mean\n",
    "print('The highest mean difference:')\n",
    "print (meanList.argmax(),end=\": \")\n",
    "print (meanList.max())\n",
    "#Get lowest mean\n",
    "print('The lowest mean difference:')\n",
    "print (meanList.argmin(),end=\": \")\n",
    "print (meanList.min())\n",
    "print()\n",
    "print(\"[Medians]\")\n",
    "print(medianList)\n",
    "#Get highest median\n",
    "print('The highest median difference:')\n",
    "print (medianList.argmax(),end=\": \")\n",
    "print (medianList.max())\n",
    "#Get lowest median\n",
    "print('The lowest median difference:')\n",
    "print (medianList.argmin(),end=\": \")\n",
    "print (medianList.min())\n"
   ]
  },
  {
   "cell_type": "markdown",
   "metadata": {},
   "source": [
    "## Data Analysis\n",
    "Significance will be determined by ANOVA testing between the genre tables created at an alpha of 0.05. In addition, in order to better understand how effective each genre is at determining the differences made, a separate table is created with all films. This table will have new binary variables which tell true/false if a movie contains a specific genre. These new variables will then be fit to a linear regression using least squares for estimating rating difference.\n",
    "\n",
    "In addition, in order to test a certain prediction. There will be a student t-test with an alpha of 0.05 on two aggregate dataframes: one containing action, comedy, and horror and history and drama for the other, to see if \"dumb fun\" and \"smart\" films have significantly different rating disparities, as well as a normality test of alpha=0.01 to see if their aggregate distributions are at least somewhat normal"
   ]
  },
  {
   "cell_type": "markdown",
   "metadata": {},
   "source": [
    "Create new dataframes using the top five genres"
   ]
  },
  {
   "cell_type": "code",
   "execution_count": 22,
   "metadata": {},
   "outputs": [],
   "source": [
    "#Get the correlation coefficients between ratings\n",
    "genreCorr = list()\n",
    "for genre in genreList:\n",
    "    genreCorr.append((genre,movieTb[genre].corr()['Rating']['Metascore']))"
   ]
  },
  {
   "cell_type": "code",
   "execution_count": 23,
   "metadata": {},
   "outputs": [
    {
     "data": {
      "text/plain": [
       "[('Action', 0.7261808519356865),\n",
       " ('Adventure', 0.7937970422660482),\n",
       " ('Sci-Fi', 0.7630651285364727),\n",
       " ('Mystery', 0.6428275934665594),\n",
       " ('Horror', 0.6414429601357307),\n",
       " ('Thriller', 0.6890793973415403),\n",
       " ('Animation', 0.8196422350911324),\n",
       " ('Comedy', 0.6929813404642322),\n",
       " ('Family', 0.7335523837834825),\n",
       " ('Fantasy', 0.6891858635667506),\n",
       " ('Drama', 0.5599125314814779),\n",
       " ('Music', 0.5064541608630745),\n",
       " ('Romance', 0.5938868533725077),\n",
       " ('History', 0.5359939486002501),\n",
       " ('Western', 0.9408736485209613),\n",
       " ('Crime', 0.6241714840770557),\n",
       " ('War', 0.5870188811669348),\n",
       " ('Musical', 0.6869385190597941),\n",
       " ('Sport', 0.6885776165669939)]"
      ]
     },
     "execution_count": 23,
     "metadata": {},
     "output_type": "execute_result"
    }
   ],
   "source": [
    "[tup for tup in genreCorr if abs(tup[1]) > 0.5]"
   ]
  },
  {
   "cell_type": "markdown",
   "metadata": {},
   "source": [
    "Perform a one-way ANOVA test on all genres"
   ]
  },
  {
   "cell_type": "code",
   "execution_count": 25,
   "metadata": {},
   "outputs": [
    {
     "name": "stdout",
     "output_type": "stream",
     "text": [
      "F Value:\n",
      "5.524034110041328\n",
      "P Value\n",
      "1.5920319548641825e-13\n"
     ]
    }
   ],
   "source": [
    "\n",
    "movieDifferences = list()\n",
    "movieDifferences_genre = list()\n",
    "\n",
    "#Get all genre differences\n",
    "for movieTable in movieTb.items():\n",
    "    movieDifferences.append(movieTable[1][\"Difference\"])\n",
    "    movieDifferences_genre.append(movieTable[0])\n",
    "\n",
    "assert(len(movieDifferences) == 20)    \n",
    "    \n",
    "#Perform the ANOVA test\n",
    "f_val,p_val = stats.f_oneway(*movieDifferences)\n",
    "\n",
    "#Print output\n",
    "print(\"F Value:\")\n",
    "print(f_val)\n",
    "print(\"P Value\")\n",
    "print(p_val)"
   ]
  },
  {
   "cell_type": "code",
   "execution_count": 26,
   "metadata": {},
   "outputs": [],
   "source": [
    "#Perform a box plot of the differences\n"
   ]
  },
  {
   "cell_type": "markdown",
   "metadata": {},
   "source": [
    "Codify genres from genreList to form predictions in db_movies"
   ]
  },
  {
   "cell_type": "code",
   "execution_count": 27,
   "metadata": {},
   "outputs": [],
   "source": [
    "#Import linear regression models\n",
    "import patsy\n",
    "import statsmodels.api as sm"
   ]
  },
  {
   "cell_type": "code",
   "execution_count": 28,
   "metadata": {},
   "outputs": [
    {
     "data": {
      "text/html": [
       "<div>\n",
       "<style scoped>\n",
       "    .dataframe tbody tr th:only-of-type {\n",
       "        vertical-align: middle;\n",
       "    }\n",
       "\n",
       "    .dataframe tbody tr th {\n",
       "        vertical-align: top;\n",
       "    }\n",
       "\n",
       "    .dataframe thead th {\n",
       "        text-align: right;\n",
       "    }\n",
       "</style>\n",
       "<table border=\"1\" class=\"dataframe\">\n",
       "  <thead>\n",
       "    <tr style=\"text-align: right;\">\n",
       "      <th></th>\n",
       "      <th>Title</th>\n",
       "      <th>Genre</th>\n",
       "      <th>Year</th>\n",
       "      <th>Rt_Min</th>\n",
       "      <th>Rev_Mil</th>\n",
       "      <th>Votes</th>\n",
       "      <th>Rating</th>\n",
       "      <th>Metascore</th>\n",
       "      <th>Metascore/10</th>\n",
       "      <th>Difference</th>\n",
       "      <th>...</th>\n",
       "      <th>Drama</th>\n",
       "      <th>Music</th>\n",
       "      <th>Biography</th>\n",
       "      <th>Romance</th>\n",
       "      <th>History</th>\n",
       "      <th>Western</th>\n",
       "      <th>Crime</th>\n",
       "      <th>War</th>\n",
       "      <th>Musical</th>\n",
       "      <th>Sport</th>\n",
       "    </tr>\n",
       "  </thead>\n",
       "  <tbody>\n",
       "    <tr>\n",
       "      <th>0</th>\n",
       "      <td>Guardians of the Galaxy</td>\n",
       "      <td>Action,Adventure,Sci-Fi</td>\n",
       "      <td>2014</td>\n",
       "      <td>121</td>\n",
       "      <td>333.13</td>\n",
       "      <td>757074</td>\n",
       "      <td>8.1</td>\n",
       "      <td>76.0</td>\n",
       "      <td>7.6</td>\n",
       "      <td>0.5</td>\n",
       "      <td>...</td>\n",
       "      <td>False</td>\n",
       "      <td>False</td>\n",
       "      <td>False</td>\n",
       "      <td>False</td>\n",
       "      <td>False</td>\n",
       "      <td>False</td>\n",
       "      <td>False</td>\n",
       "      <td>False</td>\n",
       "      <td>False</td>\n",
       "      <td>False</td>\n",
       "    </tr>\n",
       "    <tr>\n",
       "      <th>1</th>\n",
       "      <td>Prometheus</td>\n",
       "      <td>Adventure,Mystery,Sci-Fi</td>\n",
       "      <td>2012</td>\n",
       "      <td>124</td>\n",
       "      <td>126.46</td>\n",
       "      <td>485820</td>\n",
       "      <td>7.0</td>\n",
       "      <td>65.0</td>\n",
       "      <td>6.5</td>\n",
       "      <td>0.5</td>\n",
       "      <td>...</td>\n",
       "      <td>False</td>\n",
       "      <td>False</td>\n",
       "      <td>False</td>\n",
       "      <td>False</td>\n",
       "      <td>False</td>\n",
       "      <td>False</td>\n",
       "      <td>False</td>\n",
       "      <td>False</td>\n",
       "      <td>False</td>\n",
       "      <td>False</td>\n",
       "    </tr>\n",
       "    <tr>\n",
       "      <th>2</th>\n",
       "      <td>Split</td>\n",
       "      <td>Horror,Thriller</td>\n",
       "      <td>2016</td>\n",
       "      <td>117</td>\n",
       "      <td>138.12</td>\n",
       "      <td>157606</td>\n",
       "      <td>7.3</td>\n",
       "      <td>62.0</td>\n",
       "      <td>6.2</td>\n",
       "      <td>1.1</td>\n",
       "      <td>...</td>\n",
       "      <td>False</td>\n",
       "      <td>False</td>\n",
       "      <td>False</td>\n",
       "      <td>False</td>\n",
       "      <td>False</td>\n",
       "      <td>False</td>\n",
       "      <td>False</td>\n",
       "      <td>False</td>\n",
       "      <td>False</td>\n",
       "      <td>False</td>\n",
       "    </tr>\n",
       "    <tr>\n",
       "      <th>3</th>\n",
       "      <td>Sing</td>\n",
       "      <td>Animation,Comedy,Family</td>\n",
       "      <td>2016</td>\n",
       "      <td>108</td>\n",
       "      <td>270.32</td>\n",
       "      <td>60545</td>\n",
       "      <td>7.2</td>\n",
       "      <td>59.0</td>\n",
       "      <td>5.9</td>\n",
       "      <td>1.3</td>\n",
       "      <td>...</td>\n",
       "      <td>False</td>\n",
       "      <td>False</td>\n",
       "      <td>False</td>\n",
       "      <td>False</td>\n",
       "      <td>False</td>\n",
       "      <td>False</td>\n",
       "      <td>False</td>\n",
       "      <td>False</td>\n",
       "      <td>False</td>\n",
       "      <td>False</td>\n",
       "    </tr>\n",
       "    <tr>\n",
       "      <th>4</th>\n",
       "      <td>Suicide Squad</td>\n",
       "      <td>Action,Adventure,Fantasy</td>\n",
       "      <td>2016</td>\n",
       "      <td>123</td>\n",
       "      <td>325.02</td>\n",
       "      <td>393727</td>\n",
       "      <td>6.2</td>\n",
       "      <td>40.0</td>\n",
       "      <td>4.0</td>\n",
       "      <td>2.2</td>\n",
       "      <td>...</td>\n",
       "      <td>False</td>\n",
       "      <td>False</td>\n",
       "      <td>False</td>\n",
       "      <td>False</td>\n",
       "      <td>False</td>\n",
       "      <td>False</td>\n",
       "      <td>False</td>\n",
       "      <td>False</td>\n",
       "      <td>False</td>\n",
       "      <td>False</td>\n",
       "    </tr>\n",
       "  </tbody>\n",
       "</table>\n",
       "<p>5 rows × 30 columns</p>\n",
       "</div>"
      ],
      "text/plain": [
       "                     Title                     Genre  Year  Rt_Min  Rev_Mil  \\\n",
       "0  Guardians of the Galaxy   Action,Adventure,Sci-Fi  2014     121   333.13   \n",
       "1               Prometheus  Adventure,Mystery,Sci-Fi  2012     124   126.46   \n",
       "2                    Split           Horror,Thriller  2016     117   138.12   \n",
       "3                     Sing   Animation,Comedy,Family  2016     108   270.32   \n",
       "4            Suicide Squad  Action,Adventure,Fantasy  2016     123   325.02   \n",
       "\n",
       "    Votes  Rating  Metascore  Metascore/10  Difference  ...    Drama  Music  \\\n",
       "0  757074     8.1       76.0           7.6         0.5  ...    False  False   \n",
       "1  485820     7.0       65.0           6.5         0.5  ...    False  False   \n",
       "2  157606     7.3       62.0           6.2         1.1  ...    False  False   \n",
       "3   60545     7.2       59.0           5.9         1.3  ...    False  False   \n",
       "4  393727     6.2       40.0           4.0         2.2  ...    False  False   \n",
       "\n",
       "   Biography  Romance  History  Western  Crime    War  Musical  Sport  \n",
       "0      False    False    False    False  False  False    False  False  \n",
       "1      False    False    False    False  False  False    False  False  \n",
       "2      False    False    False    False  False  False    False  False  \n",
       "3      False    False    False    False  False  False    False  False  \n",
       "4      False    False    False    False  False  False    False  False  \n",
       "\n",
       "[5 rows x 30 columns]"
      ]
     },
     "execution_count": 28,
     "metadata": {},
     "output_type": "execute_result"
    }
   ],
   "source": [
    "db_sample = db_base.copy()\n",
    "\n",
    "\n",
    "#Isolate desired variables\n",
    "db_sample = db_sample[['Title','Genre','Year',\n",
    "                       'Runtime (Minutes)','Revenue (Millions)','Votes',\n",
    "                       'Rating','Metascore',\n",
    "                       'Metascore/10','Difference']]\n",
    "\n",
    "#Create pd series for each genre and append to dataframe\n",
    "for genre in genreList:\n",
    "    db_sample[genre] = pd.Series([genre in row_sample['Genre'] for ind, row_sample in db_sample.iterrows()],db_sample.index)\n",
    "\n",
    "#Convert column names for patsy design matrix\n",
    "db_sample.rename(columns={'Sci-Fi':'Sci_Fi','Runtime (Minutes)':'Rt_Min','Revenue (Millions)':'Rev_Mil'},inplace=True)\n",
    "    \n",
    "db_sample.head()"
   ]
  },
  {
   "cell_type": "code",
   "execution_count": 29,
   "metadata": {},
   "outputs": [],
   "source": [
    "outcome_1,predictors_1 = patsy.dmatrices('Difference ~ Action + Adventure + Sci_Fi + Mystery + Horror + Thriller + Animation + Comedy + Family + Fantasy + Drama + Music + Biography + Romance + History + Crime + Western + War + Musical + Sport',db_sample)\n",
    "model_1 = sm.OLS(outcome_1,predictors_1)\n",
    "result_1 = model_1.fit()\n",
    "\n",
    "assert isinstance(outcome_1, patsy.design_info.DesignMatrix)\n",
    "assert isinstance(predictors_1, patsy.design_info.DesignMatrix)\n",
    "assert isinstance(model_1, sm.regression.linear_model.OLS)\n",
    "assert isinstance(result_1, sm.regression.linear_model.RegressionResultsWrapper)\n"
   ]
  },
  {
   "cell_type": "code",
   "execution_count": 30,
   "metadata": {},
   "outputs": [
    {
     "name": "stdout",
     "output_type": "stream",
     "text": [
      "                            OLS Regression Results                            \n",
      "==============================================================================\n",
      "Dep. Variable:             Difference   R-squared:                       0.132\n",
      "Model:                            OLS   Adj. R-squared:                  0.111\n",
      "Method:                 Least Squares   F-statistic:                     6.232\n",
      "Date:                Sat, 16 Mar 2019   Prob (F-statistic):           9.16e-16\n",
      "Time:                        20:50:11   Log-Likelihood:                -1336.9\n",
      "No. Observations:                 838   AIC:                             2716.\n",
      "Df Residuals:                     817   BIC:                             2815.\n",
      "Df Model:                          20                                         \n",
      "Covariance Type:            nonrobust                                         \n",
      "=====================================================================================\n",
      "                        coef    std err          t      P>|t|      [0.025      0.975]\n",
      "-------------------------------------------------------------------------------------\n",
      "Intercept             0.8879      0.197      4.507      0.000       0.501       1.275\n",
      "Action[T.True]        0.4360      0.120      3.647      0.000       0.201       0.671\n",
      "Adventure[T.True]     0.0484      0.126      0.383      0.702      -0.199       0.296\n",
      "Sci_Fi[T.True]       -0.1568      0.150     -1.046      0.296      -0.451       0.137\n",
      "Mystery[T.True]       0.0538      0.153      0.351      0.726      -0.247       0.355\n",
      "Horror[T.True]       -0.1926      0.163     -1.182      0.238      -0.512       0.127\n",
      "Thriller[T.True]     -0.0129      0.134     -0.097      0.923      -0.276       0.250\n",
      "Animation[T.True]    -0.7779      0.209     -3.715      0.000      -1.189      -0.367\n",
      "Comedy[T.True]       -0.0084      0.132     -0.064      0.949      -0.267       0.250\n",
      "Family[T.True]        0.2519      0.197      1.278      0.202      -0.135       0.639\n",
      "Fantasy[T.True]       0.1411      0.156      0.903      0.367      -0.165       0.448\n",
      "Drama[T.True]        -0.5395      0.121     -4.464      0.000      -0.777      -0.302\n",
      "Music[T.True]         0.4753      0.323      1.470      0.142      -0.159       1.110\n",
      "Biography[T.True]    -0.0595      0.179     -0.332      0.740      -0.412       0.293\n",
      "Romance[T.True]       0.6004      0.143      4.206      0.000       0.320       0.881\n",
      "History[T.True]      -0.4697      0.265     -1.772      0.077      -0.990       0.050\n",
      "Crime[T.True]         0.2902      0.136      2.132      0.033       0.023       0.557\n",
      "Western[T.True]      -0.1244      0.611     -0.204      0.839      -1.323       1.075\n",
      "War[T.True]           0.3940      0.393      1.001      0.317      -0.378       1.166\n",
      "Musical[T.True]      -0.1484      0.626     -0.237      0.813      -1.376       1.080\n",
      "Sport[T.True]         0.3436      0.329      1.043      0.297      -0.303       0.990\n",
      "==============================================================================\n",
      "Omnibus:                        2.657   Durbin-Watson:                   2.009\n",
      "Prob(Omnibus):                  0.265   Jarque-Bera (JB):                2.494\n",
      "Skew:                           0.117   Prob(JB):                        0.287\n",
      "Kurtosis:                       3.129   Cond. No.                         20.3\n",
      "==============================================================================\n",
      "\n",
      "Warnings:\n",
      "[1] Standard Errors assume that the covariance matrix of the errors is correctly specified.\n"
     ]
    }
   ],
   "source": [
    "print(result_1.summary())"
   ]
  },
  {
   "cell_type": "code",
   "execution_count": 31,
   "metadata": {},
   "outputs": [],
   "source": [
    "outcome_2,predictors_2 = patsy.dmatrices('Difference ~ Year + Votes + Rt_Min + Rev_Mil + Action + Adventure + Sci_Fi + Mystery + Horror + Thriller + Animation + Comedy + Family + Fantasy + Drama + Music + Biography + Romance + History + Crime + Western + War + Musical + Sport',db_sample)\n",
    "model_2 = sm.OLS(outcome_2,predictors_2)\n",
    "result_2 = model_2.fit()\n",
    "\n",
    "assert isinstance(outcome_2, patsy.design_info.DesignMatrix)\n",
    "assert isinstance(predictors_2, patsy.design_info.DesignMatrix)\n",
    "assert isinstance(model_2, sm.regression.linear_model.OLS)\n",
    "assert isinstance(result_2, sm.regression.linear_model.RegressionResultsWrapper)\n"
   ]
  },
  {
   "cell_type": "code",
   "execution_count": 32,
   "metadata": {},
   "outputs": [
    {
     "name": "stdout",
     "output_type": "stream",
     "text": [
      "                            OLS Regression Results                            \n",
      "==============================================================================\n",
      "Dep. Variable:             Difference   R-squared:                       0.155\n",
      "Model:                            OLS   Adj. R-squared:                  0.130\n",
      "Method:                 Least Squares   F-statistic:                     6.215\n",
      "Date:                Sat, 16 Mar 2019   Prob (F-statistic):           3.92e-18\n",
      "Time:                        20:50:11   Log-Likelihood:                -1325.8\n",
      "No. Observations:                 838   AIC:                             2702.\n",
      "Df Residuals:                     813   BIC:                             2820.\n",
      "Df Model:                          24                                         \n",
      "Covariance Type:            nonrobust                                         \n",
      "=====================================================================================\n",
      "                        coef    std err          t      P>|t|      [0.025      0.975]\n",
      "-------------------------------------------------------------------------------------\n",
      "Intercept            35.4078     29.075      1.218      0.224     -21.663      92.478\n",
      "Action[T.True]        0.4675      0.119      3.940      0.000       0.235       0.700\n",
      "Adventure[T.True]     0.1383      0.128      1.079      0.281      -0.113       0.390\n",
      "Sci_Fi[T.True]       -0.0302      0.151     -0.200      0.842      -0.327       0.266\n",
      "Mystery[T.True]       0.0554      0.153      0.363      0.717      -0.244       0.355\n",
      "Horror[T.True]       -0.2886      0.164     -1.759      0.079      -0.611       0.033\n",
      "Thriller[T.True]      0.0057      0.133      0.043      0.966      -0.255       0.266\n",
      "Animation[T.True]    -0.6846      0.218     -3.143      0.002      -1.112      -0.257\n",
      "Comedy[T.True]       -0.0150      0.131     -0.114      0.909      -0.273       0.243\n",
      "Family[T.True]        0.1874      0.197      0.951      0.342      -0.200       0.574\n",
      "Fantasy[T.True]       0.2008      0.156      1.287      0.198      -0.105       0.507\n",
      "Drama[T.True]        -0.5828      0.122     -4.762      0.000      -0.823      -0.343\n",
      "Music[T.True]         0.4563      0.320      1.425      0.154      -0.172       1.085\n",
      "Biography[T.True]    -0.0303      0.178     -0.170      0.865      -0.379       0.319\n",
      "Romance[T.True]       0.5656      0.142      3.994      0.000       0.288       0.844\n",
      "History[T.True]      -0.4934      0.265     -1.862      0.063      -1.013       0.027\n",
      "Crime[T.True]         0.3109      0.135      2.301      0.022       0.046       0.576\n",
      "Western[T.True]       0.0767      0.607      0.126      0.900      -1.116       1.269\n",
      "War[T.True]           0.4612      0.392      1.177      0.239      -0.308       1.230\n",
      "Musical[T.True]      -0.1300      0.622     -0.209      0.834      -1.350       1.090\n",
      "Sport[T.True]         0.3002      0.327      0.917      0.359      -0.342       0.943\n",
      "Year                 -0.0171      0.014     -1.186      0.236      -0.045       0.011\n",
      "Votes             -9.115e-07   3.29e-07     -2.772      0.006   -1.56e-06   -2.66e-07\n",
      "Rt_Min                0.0014      0.003      0.518      0.604      -0.004       0.007\n",
      "Rev_Mil              -0.0008      0.001     -1.310      0.190      -0.002       0.000\n",
      "==============================================================================\n",
      "Omnibus:                        2.883   Durbin-Watson:                   2.011\n",
      "Prob(Omnibus):                  0.237   Jarque-Bera (JB):                2.941\n",
      "Skew:                           0.069   Prob(JB):                        0.230\n",
      "Kurtosis:                       3.255   Cond. No.                     1.92e+08\n",
      "==============================================================================\n",
      "\n",
      "Warnings:\n",
      "[1] Standard Errors assume that the covariance matrix of the errors is correctly specified.\n",
      "[2] The condition number is large, 1.92e+08. This might indicate that there are\n",
      "strong multicollinearity or other numerical problems.\n"
     ]
    }
   ],
   "source": [
    "print(result_2.summary())"
   ]
  },
  {
   "cell_type": "code",
   "execution_count": 42,
   "metadata": {},
   "outputs": [
    {
     "name": "stdout",
     "output_type": "stream",
     "text": [
      "Is dumb film distribution normal?\n",
      "True\n",
      "Is smart film distribution normal?\n",
      "True\n",
      "\n",
      "Ttest_indResult(statistic=4.992334115500318, pvalue=7.077436715866359e-07)\n",
      "\n",
      "The mean difference in 'dumb' films:\n",
      "1.0016483516483528\n",
      "The mean difference in 'smart' films:\n",
      "0.5869047619047612\n",
      "\n",
      "'Dumb' films received greater user reviews\n"
     ]
    }
   ],
   "source": [
    "\n",
    "\n",
    "#Determine if it is normal\n",
    "\n",
    "st_dum,p_dum = stats.normaltest(dumDiff)\n",
    "st_bran,p_bran = stats.normaltest(branDiff)\n",
    "\n",
    "is_n_dum = bool(p_dum > 0.01)\n",
    "is_n_bran = bool(p_bran > 0.01)\n",
    "\n",
    "t_stats = stats.ttest_ind(dumDiff,branDiff)\n",
    "\n",
    "print(\"Is dumb film distribution normal?\")\n",
    "print(is_n_dum)\n",
    "print(\"Is smart film distribution normal?\")\n",
    "print(is_n_bran)\n",
    "print()\n",
    "\n",
    "#Print the t-test on the chart\n",
    "print(t_stats)\n",
    "print()\n",
    "print(\"The mean difference in 'dumb' films:\")\n",
    "print(dumDiff.mean())\n",
    "print(\"The mean difference in 'smart' films:\")\n",
    "print(branDiff.mean())\n",
    "print()\n",
    "if t_stats[1] > 0.5 :\n",
    "    print(\"There's no significant difference in rating disparity\")\n",
    "elif dumDiff.mean() >= branDiff.mean():\n",
    "    print(\"'Dumb' films received greater user reviews\")\n",
    "else:\n",
    "    print(\"'Smart' films received greater user reviews\")"
   ]
  },
  {
   "cell_type": "markdown",
   "metadata": {},
   "source": [
    "## Ethics and Privacy\n",
    "We do not foresee our analysis having any issues involving ethics and privacy. The datasets are provided by IMDb on their public website and their terms and conditions allow us to use the datasets for our project as long as we acknowledge that we got the data from them. Part  of their terms are to not scrape data from their website, which we were planning not to do regardless. All of the variables we will use in our analysis--movie title, critic score, audience score, genre--are publicly available on IMDb’s website. None of the information we will use is private or connected to any specific individuals, so we will not need to do any data anonymization.\n",
    "\n",
    "How the kaggle database is curated is not readily transparent. The rank is not directly attached to any specific variable, and we are completely dependent on whomever curated the database that the films presented are as close to representing what the “top” 1000 movies are. More relevant to us is that we are comparing values from different sites, users from IMDb, and critics from Metacritic, which use different scales and may attract reviewers with different mindsets within each group, which themselves use just a sample of people who like reviewing when there could be plenty of others who do not.\n"
   ]
  },
  {
   "cell_type": "markdown",
   "metadata": {},
   "source": [
    "## Conclusions and Discussions\n",
    "The difference between scoring becomes important when audiences start to see a failing in the critic’s role in helping decision making with film selection. If audiences and critics do not agree in specific genres (i.e. audiences do not see a movie because of critic ratings), then it is not valuable for audiences to look at critic reviews (movie companies could potentially lose money). Even less so if they cannot do so consistently, in this case across genres. For an organization housing critics, or for a critic him or herself, the failure to match the opinions of the wider population could see their careers earning less respect (and perhaps less money).\n",
    "\n",
    "If our hypothesis is correct, regardless of the predictions and the differences that appear when broken into different genres, the information would be useful for revising various methods depending on one’s role. For users, they can make a more “accurate” assumption of a critic review’s value compared to the general consensus of viewers, and say that reviews are worth more or less depending on their genre. For critics, it would open up paths for inquiry and introspection on why the difference exists and--if tailoring their reviews to reflect the audience--how they can use that knowledge to improve their own review process. If the hypothesis is wrong, then genre would not be a reliable place to start looking for how and why critics and audiences differ in opinion.\n",
    "\n",
    "This leads us into the pitfalls of our analysis. We are only looking at genre, ignoring other variables which could affect the quality and reception of the film including review votes, runtime, budget, and director, among others. Certain genres may attract certain values of these variables, and having ignored them, we leave the questions of “Is that the case?” or “Do these variables hold any value?” up in the air. We are also only looking at the top 1000 movies as decided by the dataset’s curator. The remaining films might behave differently in review disparities than the top 1000, and produce different correlations.\n"
   ]
  },
  {
   "cell_type": "code",
   "execution_count": null,
   "metadata": {},
   "outputs": [],
   "source": []
  }
 ],
 "metadata": {
  "kernelspec": {
   "display_name": "Python 3",
   "language": "python",
   "name": "python3"
  },
  "language_info": {
   "codemirror_mode": {
    "name": "ipython",
    "version": 3
   },
   "file_extension": ".py",
   "mimetype": "text/x-python",
   "name": "python",
   "nbconvert_exporter": "python",
   "pygments_lexer": "ipython3",
   "version": "3.7.1"
  }
 },
 "nbformat": 4,
 "nbformat_minor": 2
}
