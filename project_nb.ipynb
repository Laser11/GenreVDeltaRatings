{
 "cells": [
  {
   "cell_type": "markdown",
   "metadata": {},
   "source": [
    "Import modules"
   ]
  },
  {
   "cell_type": "code",
   "execution_count": 1,
   "metadata": {},
   "outputs": [],
   "source": [
    "# Imports - these provided for you. Do not import any other packages\n",
    "import pandas as pd\n",
    "import matplotlib.pyplot as plt\n",
    "import seaborn as sns\n",
    "from scipy import stats\n",
    "\n",
    "import operator"
   ]
  },
  {
   "cell_type": "markdown",
   "metadata": {},
   "source": [
    "Loading in the data"
   ]
  },
  {
   "cell_type": "code",
   "execution_count": 2,
   "metadata": {
    "scrolled": true
   },
   "outputs": [
    {
     "data": {
      "text/html": [
       "<div>\n",
       "<style scoped>\n",
       "    .dataframe tbody tr th:only-of-type {\n",
       "        vertical-align: middle;\n",
       "    }\n",
       "\n",
       "    .dataframe tbody tr th {\n",
       "        vertical-align: top;\n",
       "    }\n",
       "\n",
       "    .dataframe thead th {\n",
       "        text-align: right;\n",
       "    }\n",
       "</style>\n",
       "<table border=\"1\" class=\"dataframe\">\n",
       "  <thead>\n",
       "    <tr style=\"text-align: right;\">\n",
       "      <th></th>\n",
       "      <th>Rank</th>\n",
       "      <th>Title</th>\n",
       "      <th>Genre</th>\n",
       "      <th>Description</th>\n",
       "      <th>Director</th>\n",
       "      <th>Actors</th>\n",
       "      <th>Year</th>\n",
       "      <th>Runtime (Minutes)</th>\n",
       "      <th>Rating</th>\n",
       "      <th>Votes</th>\n",
       "      <th>Revenue (Millions)</th>\n",
       "      <th>Metascore</th>\n",
       "    </tr>\n",
       "  </thead>\n",
       "  <tbody>\n",
       "    <tr>\n",
       "      <th>0</th>\n",
       "      <td>1</td>\n",
       "      <td>Guardians of the Galaxy</td>\n",
       "      <td>Action,Adventure,Sci-Fi</td>\n",
       "      <td>A group of intergalactic criminals are forced ...</td>\n",
       "      <td>James Gunn</td>\n",
       "      <td>Chris Pratt, Vin Diesel, Bradley Cooper, Zoe S...</td>\n",
       "      <td>2014</td>\n",
       "      <td>121</td>\n",
       "      <td>8.1</td>\n",
       "      <td>757074</td>\n",
       "      <td>333.13</td>\n",
       "      <td>76.0</td>\n",
       "    </tr>\n",
       "    <tr>\n",
       "      <th>1</th>\n",
       "      <td>2</td>\n",
       "      <td>Prometheus</td>\n",
       "      <td>Adventure,Mystery,Sci-Fi</td>\n",
       "      <td>Following clues to the origin of mankind, a te...</td>\n",
       "      <td>Ridley Scott</td>\n",
       "      <td>Noomi Rapace, Logan Marshall-Green, Michael Fa...</td>\n",
       "      <td>2012</td>\n",
       "      <td>124</td>\n",
       "      <td>7.0</td>\n",
       "      <td>485820</td>\n",
       "      <td>126.46</td>\n",
       "      <td>65.0</td>\n",
       "    </tr>\n",
       "    <tr>\n",
       "      <th>2</th>\n",
       "      <td>3</td>\n",
       "      <td>Split</td>\n",
       "      <td>Horror,Thriller</td>\n",
       "      <td>Three girls are kidnapped by a man with a diag...</td>\n",
       "      <td>M. Night Shyamalan</td>\n",
       "      <td>James McAvoy, Anya Taylor-Joy, Haley Lu Richar...</td>\n",
       "      <td>2016</td>\n",
       "      <td>117</td>\n",
       "      <td>7.3</td>\n",
       "      <td>157606</td>\n",
       "      <td>138.12</td>\n",
       "      <td>62.0</td>\n",
       "    </tr>\n",
       "    <tr>\n",
       "      <th>3</th>\n",
       "      <td>4</td>\n",
       "      <td>Sing</td>\n",
       "      <td>Animation,Comedy,Family</td>\n",
       "      <td>In a city of humanoid animals, a hustling thea...</td>\n",
       "      <td>Christophe Lourdelet</td>\n",
       "      <td>Matthew McConaughey,Reese Witherspoon, Seth Ma...</td>\n",
       "      <td>2016</td>\n",
       "      <td>108</td>\n",
       "      <td>7.2</td>\n",
       "      <td>60545</td>\n",
       "      <td>270.32</td>\n",
       "      <td>59.0</td>\n",
       "    </tr>\n",
       "    <tr>\n",
       "      <th>4</th>\n",
       "      <td>5</td>\n",
       "      <td>Suicide Squad</td>\n",
       "      <td>Action,Adventure,Fantasy</td>\n",
       "      <td>A secret government agency recruits some of th...</td>\n",
       "      <td>David Ayer</td>\n",
       "      <td>Will Smith, Jared Leto, Margot Robbie, Viola D...</td>\n",
       "      <td>2016</td>\n",
       "      <td>123</td>\n",
       "      <td>6.2</td>\n",
       "      <td>393727</td>\n",
       "      <td>325.02</td>\n",
       "      <td>40.0</td>\n",
       "    </tr>\n",
       "  </tbody>\n",
       "</table>\n",
       "</div>"
      ],
      "text/plain": [
       "   Rank                    Title                     Genre  \\\n",
       "0     1  Guardians of the Galaxy   Action,Adventure,Sci-Fi   \n",
       "1     2               Prometheus  Adventure,Mystery,Sci-Fi   \n",
       "2     3                    Split           Horror,Thriller   \n",
       "3     4                     Sing   Animation,Comedy,Family   \n",
       "4     5            Suicide Squad  Action,Adventure,Fantasy   \n",
       "\n",
       "                                         Description              Director  \\\n",
       "0  A group of intergalactic criminals are forced ...            James Gunn   \n",
       "1  Following clues to the origin of mankind, a te...          Ridley Scott   \n",
       "2  Three girls are kidnapped by a man with a diag...    M. Night Shyamalan   \n",
       "3  In a city of humanoid animals, a hustling thea...  Christophe Lourdelet   \n",
       "4  A secret government agency recruits some of th...            David Ayer   \n",
       "\n",
       "                                              Actors  Year  Runtime (Minutes)  \\\n",
       "0  Chris Pratt, Vin Diesel, Bradley Cooper, Zoe S...  2014                121   \n",
       "1  Noomi Rapace, Logan Marshall-Green, Michael Fa...  2012                124   \n",
       "2  James McAvoy, Anya Taylor-Joy, Haley Lu Richar...  2016                117   \n",
       "3  Matthew McConaughey,Reese Witherspoon, Seth Ma...  2016                108   \n",
       "4  Will Smith, Jared Leto, Margot Robbie, Viola D...  2016                123   \n",
       "\n",
       "   Rating   Votes  Revenue (Millions)  Metascore  \n",
       "0     8.1  757074              333.13       76.0  \n",
       "1     7.0  485820              126.46       65.0  \n",
       "2     7.3  157606              138.12       62.0  \n",
       "3     7.2   60545              270.32       59.0  \n",
       "4     6.2  393727              325.02       40.0  "
      ]
     },
     "execution_count": 2,
     "metadata": {},
     "output_type": "execute_result"
    }
   ],
   "source": [
    "db_movies = pd.read_csv('./IMDB-Movie-Data.csv') \n",
    "db_movies.head()"
   ]
  },
  {
   "cell_type": "code",
   "execution_count": 3,
   "metadata": {},
   "outputs": [],
   "source": [
    "#Isolate desired variables and eliminate rows with no rating\n",
    "db_movies = db_movies[['Title','Genre','Rating','Metascore']]\n",
    "db_movies = db_movies.dropna()\n",
    "\n",
    "#Add new variables derived from Rating and Metascore\n",
    "db_movies['Metascore/10'] = db_movies['Metascore']/10\n",
    "db_movies['Difference'] = db_movies['Rating'] - db_movies['Metascore/10']"
   ]
  },
  {
   "cell_type": "code",
   "execution_count": 4,
   "metadata": {
    "scrolled": true
   },
   "outputs": [
    {
     "name": "stdout",
     "output_type": "stream",
     "text": [
      "(936, 6)\n"
     ]
    },
    {
     "data": {
      "text/html": [
       "<div>\n",
       "<style scoped>\n",
       "    .dataframe tbody tr th:only-of-type {\n",
       "        vertical-align: middle;\n",
       "    }\n",
       "\n",
       "    .dataframe tbody tr th {\n",
       "        vertical-align: top;\n",
       "    }\n",
       "\n",
       "    .dataframe thead th {\n",
       "        text-align: right;\n",
       "    }\n",
       "</style>\n",
       "<table border=\"1\" class=\"dataframe\">\n",
       "  <thead>\n",
       "    <tr style=\"text-align: right;\">\n",
       "      <th></th>\n",
       "      <th>Title</th>\n",
       "      <th>Genre</th>\n",
       "      <th>Rating</th>\n",
       "      <th>Metascore</th>\n",
       "      <th>Metascore/10</th>\n",
       "      <th>Difference</th>\n",
       "    </tr>\n",
       "  </thead>\n",
       "  <tbody>\n",
       "    <tr>\n",
       "      <th>0</th>\n",
       "      <td>Guardians of the Galaxy</td>\n",
       "      <td>Action,Adventure,Sci-Fi</td>\n",
       "      <td>8.1</td>\n",
       "      <td>76.0</td>\n",
       "      <td>7.6</td>\n",
       "      <td>0.5</td>\n",
       "    </tr>\n",
       "    <tr>\n",
       "      <th>1</th>\n",
       "      <td>Prometheus</td>\n",
       "      <td>Adventure,Mystery,Sci-Fi</td>\n",
       "      <td>7.0</td>\n",
       "      <td>65.0</td>\n",
       "      <td>6.5</td>\n",
       "      <td>0.5</td>\n",
       "    </tr>\n",
       "    <tr>\n",
       "      <th>2</th>\n",
       "      <td>Split</td>\n",
       "      <td>Horror,Thriller</td>\n",
       "      <td>7.3</td>\n",
       "      <td>62.0</td>\n",
       "      <td>6.2</td>\n",
       "      <td>1.1</td>\n",
       "    </tr>\n",
       "    <tr>\n",
       "      <th>3</th>\n",
       "      <td>Sing</td>\n",
       "      <td>Animation,Comedy,Family</td>\n",
       "      <td>7.2</td>\n",
       "      <td>59.0</td>\n",
       "      <td>5.9</td>\n",
       "      <td>1.3</td>\n",
       "    </tr>\n",
       "    <tr>\n",
       "      <th>4</th>\n",
       "      <td>Suicide Squad</td>\n",
       "      <td>Action,Adventure,Fantasy</td>\n",
       "      <td>6.2</td>\n",
       "      <td>40.0</td>\n",
       "      <td>4.0</td>\n",
       "      <td>2.2</td>\n",
       "    </tr>\n",
       "  </tbody>\n",
       "</table>\n",
       "</div>"
      ],
      "text/plain": [
       "                     Title                     Genre  Rating  Metascore  \\\n",
       "0  Guardians of the Galaxy   Action,Adventure,Sci-Fi     8.1       76.0   \n",
       "1               Prometheus  Adventure,Mystery,Sci-Fi     7.0       65.0   \n",
       "2                    Split           Horror,Thriller     7.3       62.0   \n",
       "3                     Sing   Animation,Comedy,Family     7.2       59.0   \n",
       "4            Suicide Squad  Action,Adventure,Fantasy     6.2       40.0   \n",
       "\n",
       "   Metascore/10  Difference  \n",
       "0           7.6         0.5  \n",
       "1           6.5         0.5  \n",
       "2           6.2         1.1  \n",
       "3           5.9         1.3  \n",
       "4           4.0         2.2  "
      ]
     },
     "execution_count": 4,
     "metadata": {},
     "output_type": "execute_result"
    }
   ],
   "source": [
    "print(db_movies.shape)\n",
    "db_movies.head()"
   ]
  },
  {
   "cell_type": "markdown",
   "metadata": {},
   "source": [
    "Identify genres and create dataframes of movies in each genre"
   ]
  },
  {
   "cell_type": "code",
   "execution_count": 5,
   "metadata": {},
   "outputs": [],
   "source": [
    "#Returns a list of string labels for genres used\n",
    "def getGenres(dataframe):\n",
    "    genres = list()\n",
    "    genreCol = dataframe['Genre']\n",
    "    \n",
    "    #Get the entry from the column\n",
    "    for genreEnt in genreCol:\n",
    "        #Split and parse strings of genre\n",
    "        genreEntries = genreEnt.split(',')\n",
    "        for genre in genreEntries:\n",
    "            #check if it is in the list\n",
    "            if not(any(genre in listEntry for listEntry in genres)):\n",
    "                #Add to list if not included yet\n",
    "                genres.append(genre)\n",
    "    return genres"
   ]
  },
  {
   "cell_type": "code",
   "execution_count": 6,
   "metadata": {},
   "outputs": [],
   "source": [
    "def hasGenre(row,genre):\n",
    "    return genre in row['Genre']"
   ]
  },
  {
   "cell_type": "markdown",
   "metadata": {},
   "source": [
    "Bar chart of genre frequency. Movies may be duplicated across genres"
   ]
  },
  {
   "cell_type": "code",
   "execution_count": 7,
   "metadata": {},
   "outputs": [],
   "source": [
    "#Get the genres used and generate an empty list\n",
    "genreList = getGenres(db_movies)\n",
    "genreFreq = list()\n",
    "\n",
    "#Fill the requency dictionary genreFreq\n",
    "for genre in genreList:\n",
    "    freq = 0\n",
    "    for index, row in db_movies.iterrows():\n",
    "        if (hasGenre(row,genre)):\n",
    "            freq += 1\n",
    "    genreFreq.append((genre,freq))\n",
    "\n",
    "#Sort dictionary by key into a tuple list\n",
    "genreFreq.sort(key = lambda tup:tup[1],reverse=True)"
   ]
  },
  {
   "cell_type": "code",
   "execution_count": 8,
   "metadata": {},
   "outputs": [
    {
     "data": {
      "image/png": "[encoded data removed]",
      "text/plain": [
       "<Figure size 432x288 with 1 Axes>"
      ]
     },
     "metadata": {
      "needs_background": "light"
     },
     "output_type": "display_data"
    }
   ],
   "source": [
    "#Plot genreFreq as a bar chart\n",
    "x = range(len(genreFreq))\n",
    "x_label, y = zip(*genreFreq)\n",
    "\n",
    "ax = plt.axes()\n",
    "\n",
    "plt.bar(x, y, align='center',linewidth=0)\n",
    "plt.xticks(x,x_label, rotation='vertical')\n",
    "plt.title('Number of Films in a Genre')\n",
    "ax.spines['right'].set_linewidth(0)\n",
    "ax.spines['top'].set_linewidth(0)\n",
    "plt.show()\n",
    "\n"
   ]
  },
  {
   "cell_type": "markdown",
   "metadata": {},
   "source": [
    "Create new dataframes using the top five genres"
   ]
  },
  {
   "cell_type": "code",
   "execution_count": 9,
   "metadata": {},
   "outputs": [],
   "source": [
    "def getGenreMovies(movies,genreList):\n",
    "    movieTables = {}\n",
    "    for genre in genreList:\n",
    "        movieTables[genre] = movies.loc[movies['Genre'].str.contains(genre)]\n",
    "    return movieTables"
   ]
  },
  {
   "cell_type": "code",
   "execution_count": 10,
   "metadata": {},
   "outputs": [],
   "source": [
    "movieTb = getGenreMovies(db_movies,genreList)"
   ]
  },
  {
   "cell_type": "code",
   "execution_count": 11,
   "metadata": {},
   "outputs": [],
   "source": [
    "#Get the correlation coefficients between ratings\n",
    "genreCorr = list()\n",
    "for genre in genreList:\n",
    "    genreCorr.append((genre,movieTb[genre].corr()['Rating']['Metascore']))"
   ]
  },
  {
   "cell_type": "code",
   "execution_count": 14,
   "metadata": {},
   "outputs": [
    {
     "data": {
      "text/plain": [
       "[('Action', 0.7098323955685601),\n",
       " ('Adventure', 0.7788994344601379),\n",
       " ('Sci-Fi', 0.7330234082371372),\n",
       " ('Mystery', 0.6826217121445741),\n",
       " ('Thriller', 0.5724756448538111),\n",
       " ('Animation', 0.8177319959884246),\n",
       " ('Comedy', 0.685347315932671),\n",
       " ('Family', 0.7449130031126292),\n",
       " ('Fantasy', 0.6293388453567709),\n",
       " ('Drama', 0.5517716663823042),\n",
       " ('Romance', 0.5827752416847054),\n",
       " ('History', 0.6443775688876195),\n",
       " ('Crime', 0.597040659772643),\n",
       " ('Western', 0.9319643317398625),\n",
       " ('War', 0.6266344632309664),\n",
       " ('Musical', 0.6869385190597941),\n",
       " ('Sport', 0.6112393070167496)]"
      ]
     },
     "execution_count": 14,
     "metadata": {},
     "output_type": "execute_result"
    }
   ],
   "source": [
    "[tup for tup in genreCorr if abs(tup[1]) > 0.5]"
   ]
  },
  {
   "cell_type": "markdown",
   "metadata": {},
   "source": [
    "Plot histogram of differences in rating in movies for each genre"
   ]
  },
  {
   "cell_type": "code",
   "execution_count": 29,
   "metadata": {},
   "outputs": [
    {
     "name": "stdout",
     "output_type": "stream",
     "text": [
      "Ttest_indResult(statistic=4.078583642841564, pvalue=4.868781997324842e-05)\n",
      "Is dumb normal?\n",
      "True\n",
      "Is smart normal?\n",
      "True\n"
     ]
    }
   ],
   "source": [
    "#Merge acion,comedy,and horror films\n",
    "dumFilms = movieTb['Action'].combine_first(movieTb['Comedy'])\n",
    "dumFilms = dumFilms.combine_first(movieTb['Horror'])\n",
    "\n",
    "#Merge drama and historical films\n",
    "branFilms = movieTb['Drama'].combine_first(movieTb['History'])\n",
    "\n",
    "\n",
    "dumDiff = dumFilms['Difference']\n",
    "branDiff = branFilms['Difference']\n",
    "\n",
    "#Determine if it is normal\n",
    "\n",
    "st_dum,p_dum = stats.normaltest(dumDiff)\n",
    "st_bran,p_bran = stats.normaltest(branDiff)\n",
    "\n",
    "is_n_dum = bool(p_dum > 0.01)\n",
    "is_n_bran = bool(p_bran > 0.01)\n",
    "\n",
    "print(stats.ttest_ind(dumDiff,branDiff))\n",
    "print(\"Is dumb normal?\")\n",
    "print(is_n_dum)\n",
    "print(\"Is smart normal?\")\n",
    "print(is_n_bran)\n",
    "#Print the t-test on the chart"
   ]
  },
  {
   "cell_type": "code",
   "execution_count": 30,
   "metadata": {},
   "outputs": [
    {
     "data": {
      "text/plain": [
       "<matplotlib.lines.Line2D at 0x15f843fa748>"
      ]
     },
     "execution_count": 30,
     "metadata": {},
     "output_type": "execute_result"
    },
    {
     "data": {
      "image/png": "[encoded data removed]",
      "text/plain": [
       "<Figure size 432x288 with 1 Axes>"
      ]
     },
     "metadata": {
      "needs_background": "light"
     },
     "output_type": "display_data"
    }
   ],
   "source": [
    "\n",
    "\n",
    "\n",
    "\n",
    "#plt.title('Difference in IMDb User Rating minus Metacritic Rating/10')\n",
    "#plt.ylabel('Frequency')\n",
    "\n",
    "\n",
    "#plt.show()\n",
    "axes1 = dumDiff.hist(bins=20)\n",
    "axes2 = branDiff.hist(bins=20,fc=(0.5,0,0,0.5))\n",
    "\n",
    "axes1.set_title(\"'Dumb' vs 'Smart' Films by Review Difference\")\n",
    "axes1.legend(['Dumb:Action,Comedy,Horror','Smart:History,Drama'])\n",
    "axes1.set_ylabel(\"Frequency (# of Films)\")\n",
    "\n",
    "axes1.grid(False)\n",
    "axes1.set_frame_on(False)\n",
    "\n",
    "plt.axvline(dumDiff.mean(), color='blue', linestyle='dashed', linewidth=1)\n",
    "plt.axvline(branDiff.mean(), color='red', linestyle='dashed', linewidth=1)\n"
   ]
  },
  {
   "cell_type": "markdown",
   "metadata": {},
   "source": [
    "We now perform a one-way ANOVA test on all genres"
   ]
  },
  {
   "cell_type": "code",
   "execution_count": 62,
   "metadata": {},
   "outputs": [
    {
     "name": "stdout",
     "output_type": "stream",
     "text": [
      "F Value:\n",
      "5.378182128927415\n",
      "P Value\n",
      "4.504410718071403e-13\n"
     ]
    }
   ],
   "source": [
    "\n",
    "movieDifferences = list()\n",
    "movieDifferences_genre = list()\n",
    "\n",
    "#Get all genre differences\n",
    "for movieTable in movieTb.items():\n",
    "    movieDifferences.append(movieTable[1][\"Difference\"])\n",
    "    movieDifferences_genre.append(movieTable[0])\n",
    "\n",
    "assert(len(movieDifferences) == 20)    \n",
    "    \n",
    "#Perform the ANOVA test\n",
    "f_val,p_val = stats.f_oneway(*movieDifferences)\n",
    "\n",
    "#Print output\n",
    "print(\"F Value:\")\n",
    "print(f_val)\n",
    "print(\"P Value\")\n",
    "print(p_val)"
   ]
  },
  {
   "cell_type": "code",
   "execution_count": 69,
   "metadata": {},
   "outputs": [
    {
     "ename": "TypeError",
     "evalue": "concat() takes from 1 to 11 positional arguments but 20 were given",
     "output_type": "error",
     "traceback": [
      "\u001b[1;31m---------------------------------------------------------------------------\u001b[0m",
      "\u001b[1;31mTypeError\u001b[0m                                 Traceback (most recent call last)",
      "\u001b[1;32m<ipython-input-69-d60817af66c4>\u001b[0m in \u001b[0;36m<module>\u001b[1;34m\u001b[0m\n\u001b[0;32m      1\u001b[0m \u001b[1;31m#Perform a box plot of the differences\u001b[0m\u001b[1;33m\u001b[0m\u001b[1;33m\u001b[0m\u001b[1;33m\u001b[0m\u001b[0m\n\u001b[1;32m----> 2\u001b[1;33m \u001b[0mdiff_Frame\u001b[0m \u001b[1;33m=\u001b[0m \u001b[0mpd\u001b[0m\u001b[1;33m.\u001b[0m\u001b[0mconcat\u001b[0m\u001b[1;33m(\u001b[0m\u001b[1;33m*\u001b[0m\u001b[0mmovieDifferences\u001b[0m\u001b[1;33m)\u001b[0m\u001b[1;33m\u001b[0m\u001b[1;33m\u001b[0m\u001b[0m\n\u001b[0m\u001b[0;32m      3\u001b[0m \u001b[0mdiff_Frame\u001b[0m\u001b[1;33m.\u001b[0m\u001b[0mhead\u001b[0m\u001b[1;33m(\u001b[0m\u001b[1;33m)\u001b[0m\u001b[1;33m\u001b[0m\u001b[1;33m\u001b[0m\u001b[0m\n",
      "\u001b[1;31mTypeError\u001b[0m: concat() takes from 1 to 11 positional arguments but 20 were given"
     ]
    }
   ],
   "source": [
    "#Perform a box plot of the differences\n",
    "diff_Frame = pd.concat(*movieDifferences)\n",
    "diff_Frame.head()"
   ]
  },
  {
   "cell_type": "code",
   "execution_count": null,
   "metadata": {},
   "outputs": [],
   "source": []
  }
 ],
 "metadata": {
  "kernelspec": {
   "display_name": "Python 3",
   "language": "python",
   "name": "python3"
  },
  "language_info": {
   "codemirror_mode": {
    "name": "ipython",
    "version": 3
   },
   "file_extension": ".py",
   "mimetype": "text/x-python",
   "name": "python",
   "nbconvert_exporter": "python",
   "pygments_lexer": "ipython3",
   "version": "3.7.1"
  }
 },
 "nbformat": 4,
 "nbformat_minor": 2
}
